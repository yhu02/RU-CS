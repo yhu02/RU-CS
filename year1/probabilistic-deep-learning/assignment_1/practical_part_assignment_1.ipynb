{
 "cells": [
  {
   "cell_type": "markdown",
   "metadata": {},
   "source": [
    "### Practical Part Assignment 1 [5 points]:\n",
    "\n",
    "Deadline: 08.02.2024 12:00 (noon)\n",
    "\n",
    "This assignment is designed to help you become acquainted with the basics of PyTorch (loading in data, training, testing). For those opting to work on personal devices, we encourage you to follow the provided setup instructions accompanying this assignment. Alternatively, Google Colab is also available as a convenient option.\n",
    "\n",
    "### Instructions: \n",
    "1.  [3.5 points]: Please train a maximum likelihood classifier on CIFAR10 and report its out-of-sample (test set) accuracy. You are free to choose any architecture for the classifier; please provide a brief explanation of your choice. Below, you will find some starter code to assist you. If you are new to PyTorch, you might find it beneficial to refer to the tutorials available on the website [https://pytorch.org/tutorials/beginner/basics/intro.html](https://pytorch.org/tutorials/beginner/basics/intro.html).\n",
    "2. [1.5 points]: Plot your classifier's calibration curve for a selected class vs. the remaining classes treated as a separate class.\n",
    "\n",
    "### Additional Information:\n",
    "To help you get a grip on tensor manipulations we uploaded an overview of the dimension and shape operation in PyTorch that we consider most valuable. Additionally, it includes a refresher on the concept of broadcasting. \n"
   ]
  },
  {
   "cell_type": "code",
   "execution_count": null,
   "metadata": {},
   "outputs": [],
   "source": [
    "# imports\n",
    "import os\n",
    "\n",
    "import torch\n",
    "from torch.utils.data import DataLoader\n",
    "from torchvision.datasets import CIFAR10\n",
    "import torchvision.transforms as transforms\n",
    "\n",
    "# set a global seed for Reproducibility \n",
    "torch.manual_seed(45)\n",
    "\n",
    "# set system specific variables to make use of available hardware.\n",
    "num_workers = os.cpu_count()\n",
    "print('number of workers:', num_workers)\n",
    "\n",
    "device = torch.device(\"cuda\") if torch.cuda.is_available() else \"cpu\"\n",
    "print('device used:', device)"
   ]
  },
  {
   "cell_type": "code",
   "execution_count": null,
   "metadata": {},
   "outputs": [],
   "source": [
    "# Path to the folder where the datasets are/should be downloaded (e.g. MNIST)\n",
    "DATASET_PATH = \"./data\"\n",
    "\n",
    "img_transform = transforms.Compose([\n",
    "    transforms.ToTensor()\n",
    "])\n",
    "\n",
    "# load mnist dataset\n",
    "test_dataset = CIFAR10(root=DATASET_PATH,\n",
    "                       download=True,\n",
    "                       train=False,\n",
    "                       transform=img_transform)\n",
    "print(f'size of test_dataset: {len(test_dataset)}')\n",
    "\n",
    "train_dataset = CIFAR10(root=DATASET_PATH,\n",
    "                        download=True,\n",
    "                        train=True,\n",
    "                        transform=img_transform)\n",
    "print(f'size of train_dataset: {len(train_dataset)}')"
   ]
  },
  {
   "cell_type": "code",
   "execution_count": 15,
   "metadata": {},
   "outputs": [],
   "source": [
    "batch_size = 10\n",
    "trainloader = DataLoader(train_dataset, batch_size=batch_size, shuffle=True, num_workers=num_workers)\n",
    "test_loader = DataLoader(test_dataset, batch_size=batch_size, shuffle=True, num_workers=num_workers)"
   ]
  }
 ],
 "metadata": {
  "kernelspec": {
   "display_name": "Python 3 (ipykernel)",
   "language": "python",
   "name": "python3"
  },
  "language_info": {
   "codemirror_mode": {
    "name": "ipython",
    "version": 3
   },
   "file_extension": ".py",
   "mimetype": "text/x-python",
   "name": "python",
   "nbconvert_exporter": "python",
   "pygments_lexer": "ipython3",
   "version": "3.10.13"
  }
 },
 "nbformat": 4,
 "nbformat_minor": 4
}
