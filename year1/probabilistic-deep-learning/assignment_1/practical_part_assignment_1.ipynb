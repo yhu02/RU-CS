{
 "cells": [
  {
   "cell_type": "markdown",
   "metadata": {},
   "source": [
    "### Practical Part Assignment 1 [5 points]:\n",
    "\n",
    "Deadline: 08.02.2024 12:00 (noon)\n",
    "\n",
    "This assignment is designed to help you become acquainted with the basics of PyTorch (loading in data, training, testing). For those opting to work on personal devices, we encourage you to follow the provided setup instructions accompanying this assignment. Alternatively, Google Colab is also available as a convenient option.\n",
    "\n",
    "### Instructions: \n",
    "1.  [3.5 points]: Please train a maximum likelihood classifier on CIFAR10 and report its out-of-sample (test set) accuracy. You are free to choose any architecture for the classifier; please provide a brief explanation of your choice. Below, you will find some starter code to assist you. If you are new to PyTorch, you might find it beneficial to refer to the tutorials available on the website [https://pytorch.org/tutorials/beginner/basics/intro.html](https://pytorch.org/tutorials/beginner/basics/intro.html).\n",
    "2. [1.5 points]: Plot your classifier's calibration curve for a selected class vs. the remaining classes treated as a separate class.\n",
    "\n",
    "### Additional Information:\n",
    "To help you get a grip on tensor manipulations we uploaded an overview of the dimension and shape operation in PyTorch that we consider most valuable. Additionally, it includes a refresher on the concept of broadcasting. \n"
   ]
  },
  {
   "cell_type": "code",
   "execution_count": 1,
   "metadata": {},
   "outputs": [
    {
     "data": {
      "text/plain": [
       "'\\nWe start by importing necessary libraries \\n\\nWe define transformations for the dataset such as normalization in the context of broadcasting\\n\\nCIFAR10 dataset is loaded and split into training and testing sets.\\n\\nA simple Convolutional Neural Network (CNN) architecture is defined using the Net class.\\nWe took a simple template CNN and modified it to be slightly more complex.\\nWe increased the number of channels in the convolutional layers and increased the number of convolutional layers so that  the model can learn more complex features.\\nBy adjusting the size of fully connected layers, we increase the model capacity, allowing it to capture more complex relationships in the data.\\nSince the spatial dimensions of the feature maps change after the last pooling layer, we need to adjust the input features for the fully connected layer accordingly. \\n\\nWe define the loss function (CrossEntropyLoss) and optimizer (SGD) for training the network. \\nCross Entropy Loss was listed as one of the most common loss functions for image classification https://towardsdatascience.com/choosing-and-customizing-loss-functions-for-image-processing-a0e4bf665b0a\\nStochastic Gradient Descent was chosen because it is one of the most well known optimizers and also listed as a potential candidate on https://medium.com/analytics-vidhya/this-blog-post-aims-at-explaining-the-behavior-of-different-algorithms-for-optimizing-gradient-46159a97a8c1\\n\\nThe network is trained for a few epochs on the training data.\\n\\nWe evaluate the accuracy of the trained model on the test data.\\n\\nFinally, we plot the calibration curve for class plane versus the remaining classes treated as a separate class using calibration_curve from scikit-learn.'"
      ]
     },
     "execution_count": 1,
     "metadata": {},
     "output_type": "execute_result"
    }
   ],
   "source": [
    "\"\"\"\n",
    "We start by importing necessary libraries \n",
    "\n",
    "We define transformations for the dataset such as normalization in the context of broadcasting\n",
    "\n",
    "CIFAR10 dataset is loaded and split into training and testing sets.\n",
    "\n",
    "A simple Convolutional Neural Network (CNN) architecture is defined using the Net class.\n",
    "We took a simple template CNN and modified it to be slightly more complex.\n",
    "We increased the number of channels in the convolutional layers and increased the number of convolutional layers so that  the model can learn more complex features.\n",
    "By adjusting the size of fully connected layers, we increase the model capacity, allowing it to capture more complex relationships in the data.\n",
    "Since the spatial dimensions of the feature maps change after the last pooling layer, we need to adjust the input features for the fully connected layer accordingly. \n",
    "\n",
    "We define the loss function (CrossEntropyLoss) and optimizer (SGD) for training the network. \n",
    "Cross Entropy Loss was listed as one of the most common loss functions for image classification https://towardsdatascience.com/choosing-and-customizing-loss-functions-for-image-processing-a0e4bf665b0a\n",
    "Stochastic Gradient Descent was chosen because it is one of the most well known optimizers and also listed as a potential candidate on https://medium.com/analytics-vidhya/this-blog-post-aims-at-explaining-the-behavior-of-different-algorithms-for-optimizing-gradient-46159a97a8c1\n",
    "\n",
    "The network is trained for a few epochs on the training data.\n",
    "\n",
    "We evaluate the accuracy of the trained model on the test data.\n",
    "\n",
    "Finally, we plot the calibration curve for class plane versus the remaining classes treated as a separate class using calibration_curve from scikit-learn.\"\"\""
   ]
  },
  {
   "cell_type": "code",
   "execution_count": 2,
   "metadata": {},
   "outputs": [
    {
     "name": "stdout",
     "output_type": "stream",
     "text": [
      "number of workers: 12\n",
      "device used: cpu\n"
     ]
    }
   ],
   "source": [
    "# imports\n",
    "import os\n",
    "\n",
    "import torch\n",
    "import torchvision\n",
    "import torchvision.transforms as transforms\n",
    "import torch.nn as nn\n",
    "import torch.nn.functional as F\n",
    "import torch.optim as optim\n",
    "import numpy as np\n",
    "import matplotlib.pyplot as plt\n",
    "from sklearn.calibration import calibration_curve\n",
    "from scipy.special import softmax\n",
    "# set a global seed for Reproducibility \n",
    "torch.manual_seed(45)\n",
    "\n",
    "# set system specific variables to make use of available hardware.\n",
    "num_workers = os.cpu_count()\n",
    "print('number of workers:', num_workers)\n",
    "\n",
    "device = torch.device(\"cuda\") if torch.cuda.is_available() else \"cpu\"\n",
    "print('device used:', device)"
   ]
  },
  {
   "cell_type": "code",
   "execution_count": 3,
   "metadata": {},
   "outputs": [],
   "source": [
    "# Define transforms for the dataset\n",
    "transform = transforms.Compose([\n",
    "    transforms.ToTensor(),\n",
    "    transforms.Normalize((0.5, 0.5, 0.5), (0.5, 0.5, 0.5))\n",
    "])"
   ]
  },
  {
   "cell_type": "code",
   "execution_count": 4,
   "metadata": {},
   "outputs": [
    {
     "name": "stdout",
     "output_type": "stream",
     "text": [
      "Files already downloaded and verified\n",
      "Files already downloaded and verified\n"
     ]
    }
   ],
   "source": [
    "# Load CIFAR10 dataset\n",
    "trainset = torchvision.datasets.CIFAR10(root='./data', train=True, download=True, transform=transform)\n",
    "trainloader = torch.utils.data.DataLoader(trainset, batch_size=4, shuffle=True, num_workers=num_workers)\n",
    "\n",
    "testset = torchvision.datasets.CIFAR10(root='./data', train=False, download=True, transform=transform)\n",
    "testloader = torch.utils.data.DataLoader(testset, batch_size=4, shuffle=False, num_workers=num_workers)\n",
    "\n",
    "classes = ('plane', 'car', 'bird', 'cat', 'deer', 'dog', 'frog', 'horse', 'ship', 'truck')"
   ]
  },
  {
   "cell_type": "code",
   "execution_count": 5,
   "metadata": {},
   "outputs": [],
   "source": [
    "# Define a simple CNN model\n",
    "class Net(nn.Module):\n",
    "    def __init__(self):\n",
    "        super(Net, self).__init__()\n",
    "        self.conv1 = nn.Conv2d(3, 32, 3, padding=1)\n",
    "        self.conv2 = nn.Conv2d(32, 64, 3, padding=1)\n",
    "        self.conv3 = nn.Conv2d(64, 128, 3, padding=1)\n",
    "        self.pool = nn.MaxPool2d(2, 2)\n",
    "        self.fc1 = nn.Linear(128 * 4 * 4, 512)\n",
    "        self.fc2 = nn.Linear(512, 256)\n",
    "        self.fc3 = nn.Linear(256, 10)\n",
    "\n",
    "    def forward(self, x):\n",
    "        x = self.pool(F.relu(self.conv1(x)))\n",
    "        x = self.pool(F.relu(self.conv2(x)))\n",
    "        x = self.pool(F.relu(self.conv3(x)))\n",
    "        x = x.view(-1, 128 * 4 * 4) \n",
    "        x = F.relu(self.fc1(x))\n",
    "        x = F.relu(self.fc2(x))\n",
    "        x = self.fc3(x)\n",
    "        return x\n",
    "\n",
    "net = Net()"
   ]
  },
  {
   "cell_type": "code",
   "execution_count": 6,
   "metadata": {},
   "outputs": [],
   "source": [
    "# Define the loss function and optimizer\n",
    "criterion = nn.CrossEntropyLoss()\n",
    "optimizer = optim.SGD(net.parameters(), lr=0.001, momentum=0.9)\n"
   ]
  },
  {
   "cell_type": "code",
   "execution_count": 7,
   "metadata": {},
   "outputs": [
    {
     "name": "stdout",
     "output_type": "stream",
     "text": [
      "[1,  2000] loss: 2.198\n",
      "[1,  4000] loss: 1.838\n",
      "[1,  6000] loss: 1.613\n",
      "[1,  8000] loss: 1.501\n",
      "[1, 10000] loss: 1.399\n",
      "[1, 12000] loss: 1.324\n",
      "[2,  2000] loss: 1.173\n",
      "[2,  4000] loss: 1.137\n",
      "[2,  6000] loss: 1.098\n",
      "[2,  8000] loss: 1.045\n",
      "[2, 10000] loss: 0.998\n",
      "[2, 12000] loss: 0.996\n",
      "[3,  2000] loss: 0.849\n",
      "[3,  4000] loss: 0.850\n",
      "[3,  6000] loss: 0.837\n",
      "[3,  8000] loss: 0.823\n",
      "[3, 10000] loss: 0.815\n",
      "[3, 12000] loss: 0.782\n",
      "[4,  2000] loss: 0.672\n",
      "[4,  4000] loss: 0.666\n",
      "[4,  6000] loss: 0.655\n",
      "[4,  8000] loss: 0.682\n",
      "[4, 10000] loss: 0.666\n",
      "[4, 12000] loss: 0.646\n",
      "Finished Training\n"
     ]
    }
   ],
   "source": [
    "# Train the network\n",
    "for epoch in range(4):  # loop over the dataset multiple times\n",
    "\n",
    "    running_loss = 0.0\n",
    "    for i, data in enumerate(trainloader, 0):\n",
    "        # get the inputs; data is a list of [inputs, labels]\n",
    "        inputs, labels = data\n",
    "\n",
    "        # zero the parameter gradients\n",
    "        optimizer.zero_grad()\n",
    "\n",
    "        # forward + backward + optimize\n",
    "        outputs = net(inputs)\n",
    "        loss = criterion(outputs, labels)\n",
    "        loss.backward()\n",
    "        optimizer.step()\n",
    "\n",
    "        # print statistics\n",
    "        running_loss += loss.item()\n",
    "        if i % 2000 == 1999:    # print every 2000 mini-batches\n",
    "            print('[%d, %5d] loss: %.3f' %\n",
    "                  (epoch + 1, i + 1, running_loss / 2000))\n",
    "            running_loss = 0.0\n",
    "\n",
    "print('Finished Training')"
   ]
  },
  {
   "cell_type": "code",
   "execution_count": 8,
   "metadata": {},
   "outputs": [
    {
     "name": "stdout",
     "output_type": "stream",
     "text": [
      "Accuracy: 72 %\n"
     ]
    }
   ],
   "source": [
    "# Test the network on the test data\n",
    "correct = 0\n",
    "total = 0\n",
    "with torch.no_grad():\n",
    "    for data in testloader:\n",
    "        images, labels = data\n",
    "        outputs = net(images)\n",
    "        _, predicted = torch.max(outputs.data, 1)\n",
    "        total += labels.size(0)\n",
    "        correct += (predicted == labels).sum().item()\n",
    "\n",
    "print('Accuracy: %d %%' % (\n",
    "    100 * correct / total))"
   ]
  },
  {
   "cell_type": "code",
   "execution_count": 14,
   "metadata": {},
   "outputs": [
    {
     "data": {
      "image/png": "[encoded data removed]",
      "text/plain": [
       "<Figure size 1000x800 with 1 Axes>"
      ]
     },
     "metadata": {},
     "output_type": "display_data"
    }
   ],
   "source": [
    "# Plot calibration curve for class 0 (airplane)\n",
    "outputs = []\n",
    "labels = []\n",
    "with torch.no_grad():\n",
    "    for data in testloader:\n",
    "        images, target = data\n",
    "        output = net(images)\n",
    "        outputs.extend(output.cpu().numpy())\n",
    "        labels.extend(target.cpu().numpy())\n",
    "\n",
    "outputs = np.array(outputs)\n",
    "labels = np.array(labels)\n",
    "\n",
    "# Choose the class for which you want to plot the calibration curve\n",
    "selected_class = 0  # You can choose any class from 0 to 9\n",
    "\n",
    "# Plot calibration curve for the selected class against the rest of the classes\n",
    "probabilities = softmax(outputs, axis=1)\n",
    "\n",
    "# Convert labels to binary where 1 represents the selected class and 0 represents all other classes\n",
    "binary_labels = np.where(labels == selected_class, 1, 0)\n",
    "\n",
    "# Plot calibration curve for the selected class against all other classes\n",
    "probability_true, probability_pred = calibration_curve(binary_labels, probabilities[:, selected_class], n_bins=10)\n",
    "plt.figure(figsize=(10, 8))\n",
    "plt.plot(probability_pred, probability_true, linestyle='-', label='Calibration curve')\n",
    "plt.plot([0, 1], [0, 1], linestyle='--', label='Ideal Calibration')\n",
    "plt.xlabel('Mean predicted probability')\n",
    "plt.ylabel('Fraction of positives')\n",
    "plt.title('Calibration curve for plane)')\n",
    "plt.grid()\n",
    "plt.legend()\n",
    "plt.show()\n"
   ]
  },
  {
   "cell_type": "code",
   "execution_count": null,
   "metadata": {},
   "outputs": [],
   "source": []
  }
 ],
 "metadata": {
  "kernelspec": {
   "display_name": "Python 3 (ipykernel)",
   "language": "python",
   "name": "python3"
  },
  "language_info": {
   "codemirror_mode": {
    "name": "ipython",
    "version": 3
   },
   "file_extension": ".py",
   "mimetype": "text/x-python",
   "name": "python",
   "nbconvert_exporter": "python",
   "pygments_lexer": "ipython3",
   "version": "3.10.13"
  }
 },
 "nbformat": 4,
 "nbformat_minor": 4
}
